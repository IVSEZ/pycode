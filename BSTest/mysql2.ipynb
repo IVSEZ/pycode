{
 "cells": [
  {
   "cell_type": "code",
   "execution_count": null,
   "metadata": {},
   "outputs": [],
   "source": [
    "import pymysqlimport configparserimport pandas as pdimport numpy as npimport matplotlib.pyplot as pltconfig = configparser.ConfigParser()config.read('dbconfig.ini')cnx = pymysql.connect(host=config['rcbill_my']['host'], user=config['rcbill_my']['user'],password=config['rcbill_my']['pass'], db=config['rcbill_my']['db'], charset=\"utf8\",use_unicode=True)df = pd.read_sql('select * from anreport where period=\"2017-10-22\" and decommissioned=\"N\" and reported=\"Y\"', con=cnx)# print(df.head())#print(df.shape)#print(df._series)#print(df.index)#print(df.columns)#print(df.describe)# print(df['service'].hist(bins=50))# print(df['service'])# print(df.T)print(df.loc[(df['service']==\"Subscription Intelenovela\")])"
   ]
  }
 ],
 "metadata": {
  "language": "python"
 },
 "nbformat": 4,
 "nbformat_minor": 0
}
